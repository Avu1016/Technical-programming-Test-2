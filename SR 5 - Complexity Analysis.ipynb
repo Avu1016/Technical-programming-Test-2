{
 "cells": [
  {
   "cell_type": "code",
   "execution_count": 1,
   "id": "1a21b6c3-c687-427b-81a0-2d250f222489",
   "metadata": {},
   "outputs": [],
   "source": [
    "import pandas as pd"
   ]
  },
  {
   "cell_type": "code",
   "execution_count": 2,
   "id": "0192bb8e-fb11-4fb7-a45c-bf98c1088e17",
   "metadata": {},
   "outputs": [],
   "source": [
    "road = pd.read_csv(r\"C:\\Users\\MS Mthethwa\\Desktop\\Avumile\\Khan Road_interviews.csv\")"
   ]
  },
  {
   "cell_type": "markdown",
   "id": "f074c75f-f2cd-48a6-a039-fffb7191fee8",
   "metadata": {},
   "source": [
    "### Time Complexity Analysis:\n",
    "\n",
    "Binary search divides the search interval in half at each step, which results in a significant reduction in the search space. The time complexity of binary search is calculated based on the number of comparisons made to find the target element.\n",
    "\n",
    "- **Best Case:** The best case occurs when the target element is found at the middle of the array in the first comparison. In this case, the time complexity is O(1) because only one comparison is needed.\n",
    "  \n",
    "- **Worst Case:** The worst case occurs when the target element is not present in the array, or when it's located at either end of the array. In this case, the algorithm continues to divide the array until the search interval becomes empty. The time complexity of binary search in the worst case is O(log n), where n is the number of elements in the array. This logarithmic time complexity indicates that the algorithm's efficiency grows logarithmically with the size of the input.\n",
    "\n",
    "- **Average Case:** The average case time complexity of binary search is also O(log n). Although not every search will divide the array exactly in half at each step, on average, the search interval reduces by half with each iteration.\n",
    "\n",
    "### Space Complexity Analysis:\n",
    "\n",
    "Binary search is an in-place algorithm, meaning it does not require any additional space other than the variables used for indexing and comparisons. Therefore, the space complexity of binary search is O(1), indicating constant space usage regardless of the size of the input array.\n",
    "\n",
    "### Efficiency in Big-O Notation:\n",
    "\n",
    "The binary search algorithm demonstrates excellent efficiency in terms of its time and space complexity:\n",
    "\n",
    "- **Time Complexity:** O(log n) in the worst case, where n is the number of elements in the array. This indicates that the algorithm's runtime grows logarithmically with the size of the input, making it highly efficient for large datasets.\n",
    "  \n",
    "- **Space Complexity:** O(1), indicating constant space usage. This means that the algorithm's memory requirements remain constant regardless of the size of the input, making it memory-efficient.\n",
    "\n",
    "In conclusion, binary search is a highly efficient algorithm for searching in sorted arrays, offering logarithmic time complexity and constant space complexity. It is particularly well-suited for large datasets where efficiency is crucial."
   ]
  },
  {
   "cell_type": "code",
   "execution_count": null,
   "id": "1f83d7b2-009a-4642-98f4-e28024a4560d",
   "metadata": {},
   "outputs": [],
   "source": []
  }
 ],
 "metadata": {
  "kernelspec": {
   "display_name": "Python 3 (ipykernel)",
   "language": "python",
   "name": "python3"
  },
  "language_info": {
   "codemirror_mode": {
    "name": "ipython",
    "version": 3
   },
   "file_extension": ".py",
   "mimetype": "text/x-python",
   "name": "python",
   "nbconvert_exporter": "python",
   "pygments_lexer": "ipython3",
   "version": "3.12.3"
  }
 },
 "nbformat": 4,
 "nbformat_minor": 5
}
