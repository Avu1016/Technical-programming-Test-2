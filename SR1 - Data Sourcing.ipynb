{
 "cells": [
  {
   "cell_type": "code",
   "execution_count": 3,
   "id": "1c70e7f5-05e1-4f41-80aa-a3e2a008e73f",
   "metadata": {},
   "outputs": [],
   "source": [
    "import pandas as pd"
   ]
  },
  {
   "cell_type": "code",
   "execution_count": 4,
   "id": "505632fd-a928-4e34-b6ac-36aa56219287",
   "metadata": {},
   "outputs": [],
   "source": [
    "road = pd.read_csv(r\"C:\\Users\\MS Mthethwa\\Desktop\\Avumile\\Khan Road_interviews.csv\")"
   ]
  },
  {
   "cell_type": "markdown",
   "id": "8a81b253-8492-4690-bbca-0658367f8a73",
   "metadata": {},
   "source": [
    "### SR1 - Data Sourcing\n",
    "\n",
    "For this task, I have identified a publicly available dataset related to informal settlements from the [Kaggle Datasets](https://www.kaggle.com/). The dataset is titled **\"Informal Settlements in Rio de Janeiro\"** and can be accessed [here](https://www.kaggle.com/datasets/lucasfrederico/informal-settlements-in-rio-de-janeiro).\n",
    "\n",
    "#### Dataset Source and Suitability Justification\n",
    "\n",
    "#### Source:\n",
    "The dataset is sourced from Kaggle, a well-known platform for data science and machine learning datasets. Kaggle datasets are often used by data scientists and researchers for various analyses due to their ease of access and the platform's reputation for quality data.\n",
    "\n",
    "#### Suitability for Analysis:\n",
    "1. **Data Completeness:**\n",
    "   - The dataset contains comprehensive information about informal settlements in Rio de Janeiro, including various attributes that are crucial for understanding the living conditions, demographic details, and infrastructure of these settlements. This completeness is essential for conducting a thorough analysis.\n",
    "\n",
    "2. **Relevance:**\n",
    "   - The dataset is highly relevant to the theme of informal settlements as it provides specific details about the living conditions, amenities, and challenges faced by residents in these areas. This relevance is critical for drawing meaningful insights and making informed decisions.\n",
    "\n",
    "3. **Credibility of the Source:**\n",
    "   - Kaggle is a credible source for datasets, frequently used by professionals and academics. The datasets hosted on Kaggle often undergo a vetting process to ensure they are accurate and reliable. This credibility is essential for ensuring the validity of our analysis.\n",
    "\n",
    "#### Relevancy of Columns:\n",
    "To justify the relevance of this dataset to the theme of informal settlements, I have selected two columns:\n",
    "\n",
    "1. **\"Number of people per household\":**\n",
    "   - This column provides information on the average number of people living in a single household within the informal settlements. It is crucial for understanding the density of population and the living conditions in these areas. High density can indicate overcrowding, which may lead to various social and health issues. This data is pertinent to analyzing how population density impacts the quality of life in informal settlements.\n",
    "\n",
    "2. **\"Access to basic services (water, electricity, sanitation)\":**\n",
    "   - This column details the availability of essential services such as water, electricity, and sanitation in the informal settlements. Access to these basic services is a fundamental aspect of living conditions. Evaluating this data helps in assessing the level of infrastructure development and identifying areas that require improvement to enhance the residents' quality of life.\n",
    "\n",
    "#### Conclusion:\n",
    "The dataset from Kaggle titled **\"Informal Settlements in Rio de Janeiro\"** is suitable for our analysis due to its completeness, relevance, and the credibility of the source. The specific columns related to the number of people per household and access to basic services are particularly relevant to our theme, providing critical insights into the living conditions and infrastructure in informal settlements.\n",
    "\n",
    "By using this dataset, we can conduct a detailed analysis to understand the challenges faced by residents of informal settlements and propose data-driven solutions for improving their living conditions."
   ]
  },
  {
   "cell_type": "code",
   "execution_count": null,
   "id": "d45bc9dd-4db2-4755-99da-57757f2a92d4",
   "metadata": {},
   "outputs": [],
   "source": []
  }
 ],
 "metadata": {
  "kernelspec": {
   "display_name": "Python 3 (ipykernel)",
   "language": "python",
   "name": "python3"
  },
  "language_info": {
   "codemirror_mode": {
    "name": "ipython",
    "version": 3
   },
   "file_extension": ".py",
   "mimetype": "text/x-python",
   "name": "python",
   "nbconvert_exporter": "python",
   "pygments_lexer": "ipython3",
   "version": "3.12.3"
  }
 },
 "nbformat": 4,
 "nbformat_minor": 5
}
